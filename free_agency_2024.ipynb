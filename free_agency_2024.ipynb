{
 "cells": [
  {
   "cell_type": "code",
   "execution_count": 1,
   "id": "f0450a26-d216-4fe8-b852-2ffa25f71f89",
   "metadata": {},
   "outputs": [],
   "source": [
    "import csv\n",
    "import os\n",
    "import pandas as pd\n",
    "import numpy as np\n",
    "import sys\n",
    "import openpyxl\n",
    "import xlrd\n",
    "import datetime\n",
    "import math\n",
    "import sklearn\n",
    "import matplotlib.pyplot as plt\n",
    "\n"
   ]
  },
  {
   "cell_type": "code",
   "execution_count": 2,
   "id": "9975fee7-2b1a-4de6-818b-7a0a592abbb8",
   "metadata": {},
   "outputs": [],
   "source": [
    "import zipfile as zf\n",
    "#files = zf.ZipFile(\"C:/Users/Jacob/Projects/NHL Free Agency ML 2024/data.zip\", 'r')\n",
    "data_loc = 'C:/Users/Jacob/Projects/NHL Free Agency ML 2024/'\n",
    "#files.extractall('C:/Users/Jacob/Projects/NHL Free Agency ML 2024/')\n",
    "#files.close()\n",
    "\n",
    "data_loc += 'data/'"
   ]
  },
  {
   "cell_type": "code",
   "execution_count": 3,
   "id": "0fbcdd93-383d-43ae-a89d-f09c67862d37",
   "metadata": {},
   "outputs": [],
   "source": [
    "def getColumnIndex(headers, column_name):\n",
    "    index = -1\n",
    "    for i in range(len(headers)):\n",
    "        if headers[i] == column_name:\n",
    "            index = i\n",
    "\n",
    "    if index == -1:\n",
    "        sys.exit('column not found in header list')\n",
    "    \n",
    "    return index"
   ]
  },
  {
   "cell_type": "code",
   "execution_count": 4,
   "id": "067498b4-bfe3-4123-a40c-62e3223962ca",
   "metadata": {},
   "outputs": [],
   "source": [
    "def Variance(test_list):\n",
    "    mean = sum(test_list) / len(test_list) \n",
    "    res = sum((i - mean) ** 2 for i in test_list) / len(test_list)\n",
    "    return res"
   ]
  },
  {
   "cell_type": "code",
   "execution_count": 5,
   "id": "4aef3a1d-9182-459c-abe0-ce22deb79306",
   "metadata": {},
   "outputs": [],
   "source": [
    "def ScaleList(test_list):\n",
    "    max_num = max(test_list)\n",
    "    for i in range(len(test_list)):\n",
    "        test_list[i] = test_list[i]/max_num\n",
    "\n",
    "    return test_list"
   ]
  },
  {
   "cell_type": "code",
   "execution_count": 6,
   "id": "b09e9559-79f9-43b4-a009-cb61c6a8ec0f",
   "metadata": {},
   "outputs": [],
   "source": [
    "from sklearn.preprocessing import OneHotEncoder\n",
    "from sklearn.compose import ColumnTransformer\n",
    "def oneHot(df, categorical_features):\n",
    "    #categorical_features = [\"POS\", \"TYPE\", \"CLAUSE\", \"EXPIRY\"]\n",
    "    one_hot = OneHotEncoder()\n",
    "    transformer = ColumnTransformer([(\"one_hot\", one_hot, categorical_features)], remainder=\"passthrough\")\n",
    "    \n",
    "    transformed_x = transformer.fit_transform(df)\n",
    "    new_df = pd.DataFrame(transformed_x)\n",
    "    return new_df"
   ]
  },
  {
   "cell_type": "code",
   "execution_count": 7,
   "id": "68264df1-5f25-4428-9d89-7bc4f9cf667d",
   "metadata": {},
   "outputs": [
    {
     "name": "stdout",
     "output_type": "stream",
     "text": [
      "                PLAYER POS              TYPE   SIGNING DATE  SIGNING AGE   \n",
      "0      Jalen Chatfield  RD  Standard (1-way)  Jun. 13, 2024           28  \\\n",
      "1          Kaapo Kakko  RW  Standard (1-way)  Jun. 13, 2024           23   \n",
      "2     Angus Crookshank  LW  Standard (2-way)  Jun. 12, 2024           24   \n",
      "3         Colten Ellis   G  Standard (2-way)  Jun. 11, 2024           23   \n",
      "4   Mathias Laferrière   C  Standard (2-way)   Jun. 9, 2024           24   \n",
      "\n",
      "  CLAUSE  LENGTH EXPIRY  CAP HIT %  \n",
      "0      -       3    UFA      0.034  \n",
      "1      -       1    RFA      0.027  \n",
      "2      -       1    RFA      0.009  \n",
      "3      -       1    RFA      0.009  \n",
      "4      -       1    RFA      0.009  \n",
      "1012\n"
     ]
    }
   ],
   "source": [
    "# Contract Stats\n",
    "# every contract that has been signed since 2009 (active players only)\n",
    "contract_df = pd.read_excel(data_loc + 'Contract Stats/NHL contract data.xlsx')\n",
    "# Clean contract season stats\n",
    "# Issue: 'PLAYERS' = X. First Last\n",
    "temp1_df = contract_df['PLAYER'].str.split(\" \", n=1, expand=True).rename(columns={0 : \"first\", 1 : \"last\"})       # split 'PLAYER' columnn by first and last name = [X. First, Last] and renam the columns\n",
    "temp2_df = temp1_df['first'].str.split(\".\", n=1, expand=True).drop(columns=[0], axis=1)                           # split 1st column up = [X., First] and drop the 'X.' column\n",
    "contract_df['PLAYER'] = temp2_df[1] + \" \" + temp1_df['last']                                                      # combine columns into 1 and replace 'PLAYER\" column in original df\n",
    "\n",
    "contract_df = contract_df.drop(columns=['EXP. YEAR', 'CAP HIT'], axis=1)\n",
    "\n",
    "contract_df = contract_df.loc[:,~contract_df.columns.duplicated()].copy() # remove duplicate columns\n",
    "\n",
    "# replace nan variable sin CLAUSE column with \"-\"\n",
    "contract_df[\"CLAUSE\"] = contract_df[\"CLAUSE\"].fillna(\"-\")\n",
    "print(contract_df.head())\n",
    "\n",
    "contract_headers = contract_df.columns.values.tolist()\n",
    "full_contract_list = contract_df.values.tolist()\n",
    "\n",
    "# fix weird name issue\n",
    "for i in range(len(full_contract_list)):\n",
    "    full_contract_list[i][0] = full_contract_list[i][0].replace(full_contract_list[i][0][:1], '')\n",
    "    #print(str(i) + \". \" + full_contract_list[i][0])\n",
    "\n",
    "print(len(full_contract_list))"
   ]
  },
  {
   "cell_type": "code",
   "execution_count": 8,
   "id": "5a107caa-04a0-4bb3-a745-cbbf9dd1274b",
   "metadata": {},
   "outputs": [
    {
     "name": "stdout",
     "output_type": "stream",
     "text": [
      "1012\n"
     ]
    }
   ],
   "source": [
    "# Clean Contract Stats List\n",
    "\n",
    "# change SIGNING DATE column to just the year\n",
    "column_index = getColumnIndex(contract_headers, \"SIGNING DATE\")\n",
    "for contract in full_contract_list:\n",
    "    date = contract[column_index]\n",
    "    if isinstance(date, datetime.date):\n",
    "        year = date.year\n",
    "    else:\n",
    "        year = date[-4:]\n",
    "    contract[column_index] = year\n",
    "\n",
    "\n",
    "print(len(full_contract_list))\n",
    "#full_contract_df = pd.DataFrame(full_contract_list, columns=contract_headers)"
   ]
  },
  {
   "cell_type": "code",
   "execution_count": 9,
   "id": "e8cc37db-9e3c-4568-ae71-86bd6f47cf0d",
   "metadata": {},
   "outputs": [
    {
     "name": "stdout",
     "output_type": "stream",
     "text": [
      "sportsref_download (1).xlsx:\n",
      "    FOUND: Dylan Larkin (year: 2018-19) - GP: 76\n",
      "sportsref_download (1).xlsx:\n",
      "    FOUND: Dylan Larkin (year: 2023-24) - GP: 68\n",
      "sportsref_download (1).xlsx:\n",
      "    FOUND: Dylan Larkin (year: 2021-22) - GP: 71\n",
      "sportsref_download (12).xlsx:\n",
      "    FOUND: Dylan Larkin (year: 2016-17) - GP: 80\n",
      "sportsref_download (17).xlsx:\n",
      "    FOUND: Dylan Larkin (year: 2020-21) - GP: 44\n",
      "sportsref_download (2).xlsx:\n",
      "    FOUND: Dylan Larkin (year: 2017-18) - GP: 82\n",
      "sportsref_download (5).xlsx:\n",
      "    FOUND: Dylan Larkin (year: 2019-20) - GP: 71\n",
      "sportsref_download (7).xlsx:\n",
      "    FOUND: Dylan Larkin (year: 2015-16) - GP: 80\n",
      "sportsref_download.xlsx:\n",
      "    FOUND: Dylan Larkin (year: 2022-23) - GP: 80\n"
     ]
    }
   ],
   "source": [
    "# All Season Stats\n",
    "games_played_threshold = 20\n",
    "\n",
    "# Skaters\n",
    "season_stats_skaters = []\n",
    "# stats for every player for every season (2009-2024)\n",
    "# Skaters:\n",
    "skater_season_data_loc = data_loc + 'Season Stats/Skaters/'\n",
    "for file in next(os.walk(skater_season_data_loc))[2]:\n",
    "    if '~$' in file:\n",
    "         continue\n",
    "    else:\n",
    "        temp_df = pd.read_excel(skater_season_data_loc + file, engine='openpyxl')\n",
    "        temp_df.columns = temp_df.iloc[0] # make 1st row the columns (default excel file has 2 rows of headers)\n",
    "        temp_df = temp_df.drop(0) # get rid of 1st row (b/c we just made it the column headers above)\n",
    "        temp_df = temp_df.drop(columns = ['Rk', 'Age', 'Team', 'TOI', 'Pos', 'FO%'])\n",
    "        temp_df = temp_df.drop(temp_df[temp_df['Player'] == 'Sebastian Aho'].index)\n",
    "        temp_df = temp_df.drop_duplicates(keep=False)\n",
    "\n",
    "         # debug\n",
    "        for row in range(len(temp_df['Player'].values.tolist())):\n",
    "            if temp_df['Player'].values.tolist()[row] == \"Dylan Larkin\":\n",
    "                print(file + \":\")\n",
    "                print(\"    FOUND: \" + temp_df['Player'].values.tolist()[row] + \" (year: \" + str(temp_df['Season'].values.tolist()[row]) + \") - GP: \" + str(temp_df['GP'].values.tolist()[row]))\n",
    "        \n",
    "        temp_df = temp_df.drop(temp_df[temp_df['GP'] < games_played_threshold].index)\n",
    "        \n",
    "        # change df to a list (temporary)\n",
    "        # its easier to append a list to the end of another list than it is to append a df to the end of another df\n",
    "        temp_list = temp_df.values.tolist()\n",
    "        season_headers_skaters = temp_df.columns.tolist()\n",
    "\n",
    "        # Add list to the big list\n",
    "        for i in range(len(temp_list)):\n",
    "            season_stats_skaters.append(temp_list[i])\n",
    "\n",
    "#season_stats_skaters_df = pd.DataFrame(season_stats_skaters, columns=season_headers_skaters)"
   ]
  },
  {
   "cell_type": "code",
   "execution_count": 10,
   "id": "ca470eee-f5c5-4e69-8843-22ec43d2b525",
   "metadata": {},
   "outputs": [],
   "source": [
    "# All Season Stats\n",
    "\n",
    "# Goalies:\n",
    "season_stats_goalies = []\n",
    "# stats for every goalie for every season (2009-2024)\n",
    "goalie_season_data_loc = data_loc + 'Season Stats/Goalies/'\n",
    "for file in next(os.walk(goalie_season_data_loc))[2]:\n",
    "    if '~$' in file:\n",
    "         continue\n",
    "    else:\n",
    "        temp_df = pd.read_excel(goalie_season_data_loc + file, engine='openpyxl')\n",
    "        temp_df = temp_df.drop(columns = ['Rk', 'Age', 'Team'])\n",
    "        temp_df = temp_df.drop(temp_df[temp_df['GP'] < games_played_threshold].index)\n",
    "\n",
    "        # change df to a list (temporary)\n",
    "        temp_list = temp_df.values.tolist()\n",
    "        season_headers_goalies = temp_df.columns.tolist()\n",
    "        \n",
    "        # Add list to the big list\n",
    "        for i in range(len(temp_list)):\n",
    "            season_stats_goalies.append(temp_list[i])\n",
    "\n",
    "#season_stats_goalies_df = pd.DataFrame(season_stats_goalies, columns=season_headers_goalies)"
   ]
  },
  {
   "cell_type": "code",
   "execution_count": 11,
   "id": "4f4e7b9a-35ce-4ce3-85ba-b746d9c65a28",
   "metadata": {},
   "outputs": [
    {
     "name": "stdout",
     "output_type": "stream",
     "text": [
      "2024:\n",
      "    FOUND: Dylan Larkin (year: 2023) - GP: 68\n",
      "2023:\n",
      "    FOUND: Dylan Larkin (year: 2022) - GP: 80\n",
      "2022:\n",
      "    FOUND: Dylan Larkin (year: 2021) - GP: 71\n",
      "2021:\n",
      "    FOUND: Dylan Larkin (year: 2020) - GP: 44\n",
      "2020:\n",
      "    FOUND: Dylan Larkin (year: 2019) - GP: 71\n",
      "2019:\n",
      "    FOUND: Dylan Larkin (year: 2018) - GP: 76\n",
      "2018:\n",
      "    FOUND: Dylan Larkin (year: 2017) - GP: 81\n",
      "2017:\n",
      "    FOUND: Dylan Larkin (year: 2016) - GP: 80\n",
      "2016:\n",
      "    FOUND: Dylan Larkin (year: 2015) - GP: 80\n",
      "['season', 'name', 'icetime', 'shifts', 'onIce_xGoalsPercentage', 'offIce_xGoalsPercentage', 'onIce_corsiPercentage', 'offIce_corsiPercentage', 'onIce_fenwickPercentage', 'offIce_fenwickPercentage', 'I_F_xOnGoal', 'I_F_xGoals', 'I_F_primaryAssists', 'I_F_secondaryAssists', 'I_F_shotsOnGoal', 'I_F_blockedShotAttempts', 'I_F_shotAttempts', 'I_F_points', 'I_F_goals', 'I_F_penalityMinutes', 'I_F_faceOffsWon', 'I_F_hits', 'I_F_takeaways', 'I_F_giveaways', 'I_F_lowDangerShots', 'I_F_mediumDangerShots', 'I_F_highDangerShots', 'I_F_lowDangerxGoals', 'I_F_mediumDangerxGoals', 'I_F_highDangerxGoals', 'I_F_lowDangerGoals', 'I_F_mediumDangerGoals', 'I_F_highDangerGoals', 'I_F_unblockedShotAttempts', 'I_F_dZoneGiveaways', 'I_F_xGoalsFromxReboundsOfShots', 'I_F_xGoalsFromActualReboundsOfShots', 'I_F_reboundxGoals', 'I_F_xGoals_with_earned_rebounds', 'shotsBlockedByPlayer', 'OnIce_F_xOnGoal', 'OnIce_F_xGoals', 'OnIce_F_shotsOnGoal', 'OnIce_F_shotAttempts', 'OnIce_F_goals', 'OnIce_F_lowDangerShots', 'OnIce_F_mediumDangerShots', 'OnIce_F_highDangerShots', 'OnIce_F_lowDangerxGoals', 'OnIce_F_mediumDangerxGoals', 'OnIce_F_highDangerxGoals', 'OnIce_F_lowDangerGoals', 'OnIce_F_mediumDangerGoals', 'OnIce_F_highDangerGoals', 'OnIce_A_xOnGoal', 'OnIce_A_xGoals', 'OnIce_A_shotsOnGoal', 'OnIce_A_shotAttempts', 'OnIce_A_goals', 'OnIce_A_reboundGoals', 'OnIce_A_lowDangerShots', 'OnIce_A_mediumDangerShots', 'OnIce_A_highDangerShots', 'OnIce_A_lowDangerxGoals', 'OnIce_A_mediumDangerxGoals', 'OnIce_A_highDangerxGoals', 'OnIce_A_lowDangerGoals', 'OnIce_A_mediumDangerGoals', 'OnIce_A_highDangerGoals', 'OnIce_A_reboundxGoals']\n"
     ]
    }
   ],
   "source": [
    "# Detailed Stats\n",
    "# detailed stats for every player (2009-2024)\n",
    "detailed_stats = []\n",
    "folder_names = []\n",
    "current_year = 2024\n",
    "temp_year = current_year\n",
    "num_folders = len(next(os.walk(data_loc + 'Detailed Stats/'))[1])\n",
    "for i in range(num_folders):\n",
    "    folder_names.append(str(temp_year))\n",
    "    temp_year = temp_year - 1\n",
    "\n",
    "for i in range(len(folder_names)):\n",
    "    year = folder_names[i]\n",
    "    temp_df = pd.read_csv( data_loc + 'Detailed Stats/'+year+'/skaters.csv')\n",
    "    temp_df = temp_df.drop(temp_df[temp_df.situation == 'other'].index)\n",
    "    temp_df = temp_df.drop(temp_df[temp_df.situation == '5on5'].index)\n",
    "    temp_df = temp_df.drop(temp_df[temp_df.situation == '4on4'].index)\n",
    "    temp_df = temp_df.drop(temp_df[temp_df.situation == '5on4'].index)\n",
    "    temp_df = temp_df.drop(temp_df[temp_df.situation == '4on5'].index)\n",
    "\n",
    "     # debug\n",
    "    for row in range(len(temp_df['name'].values.tolist())):\n",
    "        if temp_df['name'].values.tolist()[row] == \"Dylan Larkin\":\n",
    "            print(year + \":\")\n",
    "            print(\"    FOUND: \" + temp_df['name'].values.tolist()[row] + \" (year: \" + str(temp_df['season'].values.tolist()[row]) + \") - GP: \" + str(temp_df['games_played'].values.tolist()[row]))\n",
    "    \n",
    "    temp_df = temp_df.drop(temp_df[temp_df.games_played < games_played_threshold].index)\n",
    "    # get rid of spcific columns (see excel documents for details)\n",
    "    # all_columns = ['playerId', 'season', 'name', 'team', 'position', 'situation', 'games_played', 'icetime', 'shifts', 'gameScore', 'onIce_xGoalsPercentage', 'offIce_xGoalsPercentage', 'onIce_corsiPercentage', 'offIce_corsiPercentage', 'onIce_fenwickPercentage', 'offIce_fenwickPercentage', 'iceTimeRank', 'I_F_xOnGoal', 'I_F_xGoals', 'I_F_xRebounds', 'I_F_xFreeze', 'I_F_xPlayStopped', 'I_F_xPlayContinuedInZone', 'I_F_xPlayContinuedOutsideZone', 'I_F_flurryAdjustedxGoals', 'I_F_scoreVenueAdjustedxGoals', 'I_F_flurryScoreVenueAdjustedxGoals', 'I_F_primaryAssists', 'I_F_secondaryAssists', 'I_F_shotsOnGoal', 'I_F_missedShots', 'I_F_blockedShotAttempts', 'I_F_shotAttempts', 'I_F_points', 'I_F_goals', 'I_F_rebounds', 'I_F_reboundGoals', 'I_F_freeze', 'I_F_playStopped', 'I_F_playContinuedInZone', 'I_F_playContinuedOutsideZone', 'I_F_savedShotsOnGoal', 'I_F_savedUnblockedShotAttempts', 'penalties', 'I_F_penalityMinutes', 'I_F_faceOffsWon', 'I_F_hits', 'I_F_takeaways', 'I_F_giveaways', 'I_F_lowDangerShots', 'I_F_mediumDangerShots', 'I_F_highDangerShots', 'I_F_lowDangerxGoals', 'I_F_mediumDangerxGoals', 'I_F_highDangerxGoals', 'I_F_lowDangerGoals', 'I_F_mediumDangerGoals', 'I_F_highDangerGoals', 'I_F_scoreAdjustedShotsAttempts', 'I_F_unblockedShotAttempts', 'I_F_scoreAdjustedUnblockedShotAttempts', 'I_F_dZoneGiveaways', 'I_F_xGoalsFromxReboundsOfShots', 'I_F_xGoalsFromActualReboundsOfShots', 'I_F_reboundxGoals', 'I_F_xGoals_with_earned_rebounds', 'I_F_xGoals_with_earned_rebounds_scoreAdjusted', 'I_F_xGoals_with_earned_rebounds_scoreFlurryAdjusted', 'I_F_shifts', 'I_F_oZoneShiftStarts', 'I_F_dZoneShiftStarts', 'I_F_neutralZoneShiftStarts', 'I_F_flyShiftStarts', 'I_F_oZoneShiftEnds', 'I_F_dZoneShiftEnds', 'I_F_neutralZoneShiftEnds', 'I_F_flyShiftEnds', 'faceoffsWon', 'faceoffsLost', 'timeOnBench', 'penalityMinutes', 'penalityMinutesDrawn', 'penaltiesDrawn', 'shotsBlockedByPlayer', 'OnIce_F_xOnGoal', 'OnIce_F_xGoals', 'OnIce_F_flurryAdjustedxGoals', 'OnIce_F_scoreVenueAdjustedxGoals', 'OnIce_F_flurryScoreVenueAdjustedxGoals', 'OnIce_F_shotsOnGoal', 'OnIce_F_missedShots', 'OnIce_F_blockedShotAttempts', 'OnIce_F_shotAttempts', 'OnIce_F_goals', 'OnIce_F_rebounds', 'OnIce_F_reboundGoals', 'OnIce_F_lowDangerShots', 'OnIce_F_mediumDangerShots', 'OnIce_F_highDangerShots', 'OnIce_F_lowDangerxGoals', 'OnIce_F_mediumDangerxGoals', 'OnIce_F_highDangerxGoals', 'OnIce_F_lowDangerGoals', 'OnIce_F_mediumDangerGoals', 'OnIce_F_highDangerGoals', 'OnIce_F_scoreAdjustedShotsAttempts', 'OnIce_F_unblockedShotAttempts', 'OnIce_F_scoreAdjustedUnblockedShotAttempts', 'OnIce_F_xGoalsFromxReboundsOfShots', 'OnIce_F_xGoalsFromActualReboundsOfShots', 'OnIce_F_reboundxGoals', 'OnIce_F_xGoals_with_earned_rebounds', 'OnIce_F_xGoals_with_earned_rebounds_scoreAdjusted', 'OnIce_F_xGoals_with_earned_rebounds_scoreFlurryAdjusted', 'OnIce_A_xOnGoal', 'OnIce_A_xGoals', 'OnIce_A_flurryAdjustedxGoals', 'OnIce_A_scoreVenueAdjustedxGoals', 'OnIce_A_flurryScoreVenueAdjustedxGoals', 'OnIce_A_shotsOnGoal', 'OnIce_A_missedShots', 'OnIce_A_blockedShotAttempts', 'OnIce_A_shotAttempts', 'OnIce_A_goals', 'OnIce_A_rebounds', 'OnIce_A_reboundGoals', 'OnIce_A_lowDangerShots', 'OnIce_A_mediumDangerShots', 'OnIce_A_highDangerShots', 'OnIce_A_lowDangerxGoals', 'OnIce_A_mediumDangerxGoals', 'OnIce_A_highDangerxGoals', 'OnIce_A_lowDangerGoals', 'OnIce_A_mediumDangerGoals', 'OnIce_A_highDangerGoals', 'OnIce_A_scoreAdjustedShotsAttempts', 'OnIce_A_unblockedShotAttempts', 'OnIce_A_scoreAdjustedUnblockedShotAttempts', 'OnIce_A_xGoalsFromxReboundsOfShots', 'OnIce_A_xGoalsFromActualReboundsOfShots', 'OnIce_A_reboundxGoals', 'OnIce_A_xGoals_with_earned_rebounds', 'OnIce_A_xGoals_with_earned_rebounds_scoreAdjusted', 'OnIce_A_xGoals_with_earned_rebounds_scoreFlurryAdjusted', 'OffIce_F_xGoals', 'OffIce_A_xGoals', 'OffIce_F_shotAttempts', 'OffIce_A_shotAttempts', 'xGoalsForAfterShifts', 'xGoalsAgainstAfterShifts', 'corsiForAfterShifts', 'corsiAgainstAfterShifts', 'fenwickForAfterShifts', 'fenwickAgainstAfterShifts']\n",
    "    # keep_columns = ['season', 'name', 'icetime', 'shifts', 'onIce_xGoalsPercentage', 'offIce_xGoalsPercentage', 'onIce_corsiPercentage', 'offIce_corsiPercentage', 'onIce_fenwickPercentage', 'offIce_fenwickPercentage', 'I_F_xOnGoal', 'I_F_xGoals', 'I_F_primaryAssists', 'I_F_secondaryAssists', 'I_F_shotsOnGoal', 'I_F_blockedShotAttempts', 'I_F_shotAttempts', 'I_F_points', 'I_F_goals', 'I_F_penalityMinutes', 'I_F_faceOffsWon', 'I_F_hits', 'I_F_takeaways', 'I_F_giveaways', 'I_F_lowDangerShots', 'I_F_mediumDangerShots', 'I_F_highDangerShots', 'I_F_lowDangerxGoals', 'I_F_mediumDangerxGoals', 'I_F_highDangerxGoals', 'I_F_lowDangerGoals', 'I_F_mediumDangerGoals', 'I_F_highDangerGoals', 'I_F_unblockedShotAttempts', 'I_F_dZoneGiveaways', 'I_F_xGoalsFromxReboundsOfShots', 'I_F_xGoalsFromActualReboundsOfShots', 'I_F_reboundxGoals', 'I_F_xGoals_with_earned_rebounds', 'faceoffsWon', 'faceoffsLost', 'shotsBlockedByPlayer', 'OnIce_F_xOnGoal', 'OnIce_F_xGoals', 'OnIce_F_shotsOnGoal', 'OnIce_F_shotAttempts', 'OnIce_F_goals', 'OnIce_F_lowDangerShots', 'OnIce_F_mediumDangerShots', 'OnIce_F_highDangerShots', 'OnIce_F_lowDangerxGoals', 'OnIce_F_mediumDangerxGoals', 'OnIce_F_highDangerxGoals', 'OnIce_F_lowDangerGoals', 'OnIce_F_mediumDangerGoals', 'OnIce_F_highDangerGoals', 'OnIce_A_xOnGoal', 'OnIce_A_xGoals', 'OnIce_A_shotsOnGoal', 'OnIce_A_shotAttempts', 'OnIce_A_goals', 'OnIce_A_reboundGoals', 'OnIce_A_lowDangerShots', 'OnIce_A_mediumDangerShots', 'OnIce_A_highDangerShots', 'OnIce_A_lowDangerxGoals', 'OnIce_A_mediumDangerxGoals', 'OnIce_A_highDangerxGoals', 'OnIce_A_lowDangerGoals', 'OnIce_A_mediumDangerGoals', 'OnIce_A_highDangerGoals', 'OnIce_A_reboundxGoals']\n",
    "    get_rid_of = ['playerId', 'team', 'position', 'situation', 'games_played',\n",
    "        'gameScore', 'iceTimeRank', 'I_F_xRebounds', 'I_F_xFreeze',\n",
    "       'I_F_xPlayStopped', 'I_F_xPlayContinuedInZone',\n",
    "       'I_F_xPlayContinuedOutsideZone', 'I_F_flurryAdjustedxGoals',\n",
    "       'I_F_scoreVenueAdjustedxGoals', 'I_F_flurryScoreVenueAdjustedxGoals',\n",
    "       'I_F_missedShots', 'I_F_rebounds', 'I_F_reboundGoals', 'I_F_freeze',\n",
    "       'I_F_playStopped', 'I_F_playContinuedInZone',\n",
    "       'I_F_playContinuedOutsideZone', 'I_F_savedShotsOnGoal',\n",
    "       'I_F_savedUnblockedShotAttempts', 'penalties',\n",
    "       'I_F_scoreAdjustedShotsAttempts',\n",
    "       'I_F_scoreAdjustedUnblockedShotAttempts',\n",
    "       'I_F_xGoals_with_earned_rebounds_scoreAdjusted',\n",
    "       'I_F_xGoals_with_earned_rebounds_scoreFlurryAdjusted', 'I_F_shifts',\n",
    "       'I_F_oZoneShiftStarts', 'I_F_dZoneShiftStarts',\n",
    "       'I_F_neutralZoneShiftStarts', 'I_F_flyShiftStarts',\n",
    "       'I_F_oZoneShiftEnds', 'I_F_dZoneShiftEnds', 'I_F_neutralZoneShiftEnds',\n",
    "       'I_F_flyShiftEnds', 'timeOnBench', 'penalityMinutes',\n",
    "       'penalityMinutesDrawn', 'penaltiesDrawn', 'faceoffsWon', 'faceoffsLost',\n",
    "       'OnIce_F_flurryAdjustedxGoals', 'OnIce_F_scoreVenueAdjustedxGoals',\n",
    "       'OnIce_F_flurryScoreVenueAdjustedxGoals', 'OnIce_F_missedShots',\n",
    "       'OnIce_F_blockedShotAttempts', 'OnIce_F_rebounds',\n",
    "       'OnIce_F_reboundGoals', 'OnIce_F_scoreAdjustedShotsAttempts',\n",
    "       'OnIce_F_unblockedShotAttempts',\n",
    "       'OnIce_F_scoreAdjustedUnblockedShotAttempts',\n",
    "       'OnIce_F_xGoalsFromxReboundsOfShots',\n",
    "       'OnIce_F_xGoalsFromActualReboundsOfShots', 'OnIce_F_reboundxGoals',\n",
    "       'OnIce_F_xGoals_with_earned_rebounds',\n",
    "       'OnIce_F_xGoals_with_earned_rebounds_scoreAdjusted',\n",
    "       'OnIce_F_xGoals_with_earned_rebounds_scoreFlurryAdjusted',\n",
    "       'OnIce_A_flurryAdjustedxGoals', 'OnIce_A_scoreVenueAdjustedxGoals',\n",
    "       'OnIce_A_flurryScoreVenueAdjustedxGoals', 'OnIce_A_missedShots',\n",
    "       'OnIce_A_blockedShotAttempts', 'OnIce_A_rebounds',\n",
    "       'OnIce_A_scoreAdjustedShotsAttempts', 'OnIce_A_unblockedShotAttempts',\n",
    "       'OnIce_A_scoreAdjustedUnblockedShotAttempts',\n",
    "       'OnIce_A_xGoalsFromxReboundsOfShots',\n",
    "       'OnIce_A_xGoalsFromActualReboundsOfShots',\n",
    "       'OnIce_A_xGoals_with_earned_rebounds',\n",
    "       'OnIce_A_xGoals_with_earned_rebounds_scoreAdjusted',\n",
    "       'OnIce_A_xGoals_with_earned_rebounds_scoreFlurryAdjusted',\n",
    "       'OffIce_F_xGoals', 'OffIce_A_xGoals', 'OffIce_F_shotAttempts',\n",
    "       'OffIce_A_shotAttempts', 'xGoalsForAfterShifts',\n",
    "       'xGoalsAgainstAfterShifts', 'corsiForAfterShifts',\n",
    "       'corsiAgainstAfterShifts', 'fenwickForAfterShifts',\n",
    "       'corsiForAfterShifts', 'fenwickAgainstAfterShifts']\n",
    "    temp_df.drop(columns = get_rid_of, axis=1, inplace=True)\n",
    "    #temp_df.drop(columns = [\"OnIce_A_reboundxGoals\"], inplace=True)\n",
    "    detailed_headers = list(temp_df.columns.values)\n",
    "    temp_list = temp_df.values.tolist()\n",
    "    #print(temp_list)\n",
    "    for i in range(len(temp_list)):\n",
    "        detailed_stats.append(temp_list[i])\n",
    "\n",
    "print(detailed_headers)\n",
    "#detailed_stats_df = pd.DataFrame(detailed_stats, columns=detailed_headers)"
   ]
  },
  {
   "cell_type": "code",
   "execution_count": 12,
   "id": "b454df3d-ca34-492f-94fd-459e584357e0",
   "metadata": {},
   "outputs": [],
   "source": [
    "# Add Detailed stats to the Season stats\n",
    "\n",
    "full_player_stats = []\n",
    "full_player_headers = season_headers_skaters\n",
    "for i in range(2, len(detailed_headers)):   # dont include the 'name' and 'season' headers from the detailed_stats\n",
    "    full_player_headers.append(detailed_headers[i])\n",
    "\n",
    "season_year_index = getColumnIndex(season_headers_skaters, \"Season\")\n",
    "season_name_index = getColumnIndex(season_headers_skaters, \"Player\")\n",
    "detailed_year_index = getColumnIndex(detailed_headers, \"season\")\n",
    "detailed_name_index = getColumnIndex(detailed_headers, \"name\")\n",
    "\n",
    "# Skaters\n",
    "for row in range(len(season_stats_skaters)):\n",
    "    season_row = season_stats_skaters[row]\n",
    "    player_name = season_row[season_name_index]\n",
    "    year = str(int(season_row[season_year_index].split('-')[0]))\n",
    "    for detailed_row in detailed_stats:\n",
    "        if detailed_row[detailed_name_index] == player_name and str(detailed_row[detailed_year_index]) == year:\n",
    "            temp_row = season_row\n",
    "            for i in range(2, len(detailed_row)):   # dont include the 'name' and 'season' columns from the detailed_stats\n",
    "                temp_row.append(detailed_row[i])\n",
    "            full_player_stats.append(temp_row)\n",
    "\n",
    "# Goalies\n",
    "# TODO:\n",
    "\n",
    "\n",
    "\n",
    "#full_player_stats_df = pd.DataFrame(full_player_stats, columns=full_player_headers)"
   ]
  },
  {
   "cell_type": "code",
   "execution_count": 13,
   "id": "5e690f6a-cedd-4074-9dce-da064d10725e",
   "metadata": {},
   "outputs": [],
   "source": [
    "def convertToStatsPerGame(temp_list, gp_index):\n",
    "    for column in range(len(temp_list)):\n",
    "        if column != gp_index and type(temp_list[column]) != str and full_player_headers[column][-10:] != \"Percentage\":\n",
    "            temp_list[column] = temp_list[column]/temp_list[gp_index]\n",
    "    return temp_list"
   ]
  },
  {
   "cell_type": "code",
   "execution_count": 14,
   "id": "2640f6be-820f-480d-a14a-400ea35b20d5",
   "metadata": {},
   "outputs": [],
   "source": [
    "def CombineStats(temp_list):\n",
    "    # recalculate the weights if we have less than N rows (need weights to add up to 1)\n",
    "    weights = []\n",
    "    if len(temp_list) < N:\n",
    "        sum_wts = 0\n",
    "        for i in range(len(temp_list)):\n",
    "            sum_wts = sum_wts + weighted_years[i]\n",
    "        for i in range(len(temp_list)):\n",
    "            weights.append(weighted_years[i]/sum_wts)\n",
    "    else:\n",
    "        weights = weighted_years\n",
    "\n",
    "    if len(weights) != len(temp_list):\n",
    "        print(len(weights), len(temp_list))\n",
    "        print(weighted_years)\n",
    "        print(weights)\n",
    "        print(temp_list[0][0])\n",
    "    \n",
    "    # re-order rows based on season\n",
    "    df = pd.DataFrame(temp_list, columns=full_player_headers)\n",
    "    df = df.sort_values(by=['Season'])\n",
    "    temp_list = df.values.tolist()\n",
    "    \n",
    "    temp_combined_stats = []\n",
    "    for column in range(len(full_player_headers)):\n",
    "        if type(temp_list[0][column]) is str:     # string column (just take the 1st one)\n",
    "            temp_combined_stats.append(temp_list[0][column])\n",
    "        else:                                           # number column (average them)  WEIGHTED AVERAGE (put more signifigance on more recent years of stats)\n",
    "            weighted_sum_total = 0\n",
    "            for year in range(len(temp_list)):\n",
    "                weighted_sum_total = weighted_sum_total + (temp_list[year][column] * weights[year])\n",
    "            temp_combined_stats.append(weighted_sum_total)\n",
    "\n",
    "    return temp_combined_stats"
   ]
  },
  {
   "cell_type": "code",
   "execution_count": 15,
   "id": "14cbed19-dd04-4c31-9096-b54153c8300c",
   "metadata": {},
   "outputs": [],
   "source": [
    "# Get the past N years of data for each contract we have and combine the data into 1 set\n",
    "\n",
    "N = 3  # number of years\n",
    "weighted_years = [.6, .3, .1] # weights used for combining the stats (weighted average)\n",
    "contract_date_index = getColumnIndex(contract_headers, \"SIGNING DATE\")  # Example: 2024\n",
    "stats_season_index = getColumnIndex(full_player_headers, \"Season\")  # Example: 2023-24\n",
    "stats_name_index = getColumnIndex(full_player_headers, \"Player\")\n",
    "contract_name_index = getColumnIndex(contract_headers, \"PLAYER\")\n",
    "stats_gp_index = getColumnIndex(full_player_headers, \"GP\")  # games played\n",
    "\n",
    "combined_player_stats = []\n",
    "for contract in full_contract_list:\n",
    "    contract_name = contract[contract_name_index]\n",
    "    contract_year = int(contract[contract_date_index])\n",
    "    temp_stats_list = []\n",
    "    # find stats of this player\n",
    "    for player in full_player_stats:\n",
    "        stats_name = player[stats_name_index]\n",
    "        str(int(season_row[season_year_index].split('-')[0]))\n",
    "        stats_season = int(player[stats_season_index].split('-')[0])  # get the first 4 characters and cast to an int ('2023-24' -> 2023)\n",
    "        if contract_name == stats_name and stats_season >= (contract_year - N) and stats_season < contract_year:   # if this player is the correct player AND its corresponding stats are within N years of the contract signing date\n",
    "            temp_stats_list.append(convertToStatsPerGame(player, stats_gp_index))\n",
    "            \n",
    "    if len(temp_stats_list) != 0:  # we found stats for this contract, therefor keep this contract and combine the stats\n",
    "        # combine multiple years of stats\n",
    "        if len(temp_stats_list) > 1:\n",
    "            # Add new \"Combined Stats\" to the big list as 1 row\n",
    "            combined_player_stats.append(contract + (CombineStats(temp_stats_list)))\n",
    "        else:\n",
    "            combined_player_stats.append(contract + temp_stats_list[0])\n",
    "\n",
    "\n",
    "# fix header list\n",
    "headers = []\n",
    "for i in contract_headers:\n",
    "    headers.append(i)\n",
    "for i in full_player_headers:\n",
    "    headers.append(i)\n",
    "        "
   ]
  },
  {
   "cell_type": "code",
   "execution_count": 16,
   "id": "87d11027-ac97-493c-8130-f15f12a95374",
   "metadata": {},
   "outputs": [],
   "source": [
    "# Get our Final Testing Set (stats of players who dont have a contract (aka Free Agents)\n",
    "\n",
    "# get all names of players that we dont have a contract for, BUT we do have stats data for\n",
    "no_contract_names = []\n",
    "for row in full_player_stats:\n",
    "    new_name = True\n",
    "    stats_name = row[stats_name_index]\n",
    "    for i in no_contract_names:\n",
    "        if i == stats_name:\n",
    "            new_name = False\n",
    "\n",
    "    if new_name == True:\n",
    "        found_contract = False\n",
    "        for row2 in full_contract_list:\n",
    "            if row2[contract_name_index] == stats_name:\n",
    "                found_contract = True\n",
    "        if found_contract == False:\n",
    "            no_contract_names.append(stats_name)\n",
    "\n",
    "# go through all names of players we dont have a contract for, and combine their stats\n",
    "# this will be our final testing data set (End Game)\n",
    "curr_year = 2024\n",
    "no_contract_player_list = []\n",
    "for name in no_contract_names:\n",
    "    temp_stats_list = []\n",
    "    for player in full_player_stats:\n",
    "        stats_name = player[stats_name_index]\n",
    "        stats_season = int(player[stats_season_index].split('-')[0])  # get the first 4 characters and cast to an int ('2023-24' -> 2023)\n",
    "        if stats_name == name and stats_season >= (curr_year - N) and stats_season < curr_year:   # if we dont have a contract for this player AND its corresponding stats are within N years of this year (2024)\n",
    "            temp_stats_list.append(convertToStatsPerGame(player, stats_gp_index))\n",
    "            if stats_name == 'Dylan Larkin':\n",
    "                print(stats_name, stats_year)\n",
    "        \n",
    "    if len(temp_stats_list) != 0:  # we found stats for this player (and no contract), therefor keep this player and combine the stats\n",
    "        # combine multiple years of stats\n",
    "        if len(temp_stats_list) > 1:\n",
    "            # Add new \"Combined Stats\" to the big list as 1 row\n",
    "            no_contract_player_list.append(CombineStats(temp_stats_list))\n",
    "        else:\n",
    "            no_contract_player_list.append(contract + temp_stats_list[0])"
   ]
  },
  {
   "cell_type": "code",
   "execution_count": 17,
   "id": "dc43c04e-a9c3-4d69-95ee-ef4608308aeb",
   "metadata": {},
   "outputs": [
    {
     "name": "stdout",
     "output_type": "stream",
     "text": [
      "Full Contract List:  1012\n",
      "Full Player Stats:  4552\n",
      "-----------------------------------------\n",
      "Players w/ Contract:  331\n",
      "Players w/out Contract:  319\n",
      "['Jalen Chatfield', 'RD', 'Standard (1-way)', '2024', 28, '-', 3, 'UFA', 0.034, 'Jalen Chatfield', 0.22150997150997154, '2022-23', 76.00000000000001, 0.08831908831908833, 0.1331908831908832, 0.22150997150997154, 0.2660256410256411, 0.4102564102564103, 0.07977207977207978, 0.0, 0.008547008547008548, 0.026353276353276354, 1.2115384615384617, 0.09675925925925927, 0.0, 0.0, 0.9351851851851853, 0.8440170940170941, 868.9358974358975, 19.081196581196583, 0.58, 0.5800000000000001, 0.5866666666666667, 0.5966666666666667, 0.5866666666666667, 0.5866666666666667, 1.336125356125356, 0.06387108262108263, 0.06125356125356125, 0.07193732193732194, 1.2115384615384617, 0.9184472934472936, 2.823717948717949, 0.22150997150997154, 0.08831908831908833, 0.4102564102564103, 0.0, 0.9351851851851853, 0.34579772079772086, 0.3183760683760684, 1.7610398860398861, 0.09544159544159546, 0.048789173789173794, 0.037813390313390316, 0.01209757834757835, 0.014091880341880345, 0.06588319088319089, 0.00462962962962963, 0.01780626780626781, 1.9052706552706558, 0.233974358974359, 0.015124643874643875, 0.013041310541310544, 0.014059829059829063, 0.06502136752136753, 0.8440170940170941, 8.098340455840457, 0.7017556980056981, 7.600071225071226, 14.948005698005701, 0.7015669515669517, 8.440883190883191, 1.9732905982905986, 0.7613960113960114, 0.24163105413105418, 0.24047364672364674, 0.21973646723646728, 0.3155270655270656, 0.22792022792022798, 0.15811965811965814, 5.639832621082622, 0.5049608262108263, 5.595797720797721, 10.444088319088321, 0.5007122507122508, 0.057336182336182345, 5.795584045584047, 1.5163817663817665, 0.5046296296296297, 0.1590527065527066, 0.19371794871794873, 0.15227564102564103, 0.2015669515669516, 0.2015669515669516, 0.09757834757834759, 0.10600783475783476]\n"
     ]
    }
   ],
   "source": [
    "\n",
    "print(\"Full Contract List: \", len(full_contract_list))\n",
    "print(\"Full Player Stats: \", len(full_player_stats))\n",
    "print(\"-----------------------------------------\")\n",
    "print(\"Players w/ Contract: \", len(combined_player_stats))\n",
    "print(\"Players w/out Contract: \", len(no_contract_player_list))\n",
    "\n",
    "print(combined_player_stats[0])\n",
    "#for i in range(len(headers)):\n",
    "#    print(str(i), \". \", headers[i], \" - \", combined_player_stats[0][i])"
   ]
  },
  {
   "cell_type": "code",
   "execution_count": 18,
   "id": "d353b03b-d9a7-4906-b2d4-267a0385b075",
   "metadata": {},
   "outputs": [],
   "source": [
    "# TODO: switch list to a df\n",
    "df = pd.DataFrame(combined_player_stats, columns=headers)\n",
    "# TODO: clean duplicate columns\n",
    "df = df.drop(columns=[\"PLAYER\", \"SIGNING DATE\", \"Player\", \"Season\", \"GP\"])\n",
    "#print(df)\n"
   ]
  },
  {
   "cell_type": "code",
   "execution_count": 19,
   "id": "4c825011-ba90-4cd2-8c22-89f0e6abe49e",
   "metadata": {},
   "outputs": [
    {
     "data": {
      "image/png": "[encoded data removed]",
      "text/plain": [
       "<Figure size 1000x700 with 1 Axes>"
      ]
     },
     "metadata": {},
     "output_type": "display_data"
    }
   ],
   "source": [
    "# TODO: Normalize all stats and calculate the variance of them\n",
    "variance_list = []\n",
    "variance_headers = []\n",
    "min_max = []\n",
    "for header in df.columns.values.tolist():\n",
    "    data = df[header].values.tolist()\n",
    "    if type(data[0]) is int or type(data[0]) is float:\n",
    "        min_max.append((min(df[header].tolist()), max(df[header].tolist())))\n",
    "        df[header] = pd.DataFrame(ScaleList(data), columns=[header])\n",
    "        var = Variance(df[header].tolist())\n",
    "        #print(header, \". \", str(var))\n",
    "        variance_list.append(var)\n",
    "        variance_headers.append(header)\n",
    "\n",
    "#for i in range(len(variance_list)):\n",
    "#    print(i, variance_headers[i], variance_list[i])\n",
    "#    print(\"     \", min_max[i][0], min_max[i][1])\n",
    "\n",
    "# box plot of varinaces\n",
    "fig = plt.figure(figsize =(10, 7))\n",
    "plt.boxplot(variance_list)\n",
    "plt.show()\n"
   ]
  },
  {
   "cell_type": "code",
   "execution_count": 20,
   "id": "2f56e8a7-5689-4c7b-97e5-04a4c5f11bfc",
   "metadata": {},
   "outputs": [
    {
     "name": "stdout",
     "output_type": "stream",
     "text": [
      "['SIGNING AGE', '+/-', 'onIce_xGoalsPercentage', 'offIce_xGoalsPercentage', 'onIce_corsiPercentage', 'offIce_corsiPercentage', 'onIce_fenwickPercentage', 'offIce_fenwickPercentage', 'I_F_mediumDangerShots']\n"
     ]
    }
   ],
   "source": [
    "# parse through parameters and get rid of ones with low variance\n",
    "\n",
    "threshold_min = .015  # from above box plot\n",
    "threshold_max = .062  # from above box plot\n",
    "\n",
    "low_var_columns = []\n",
    "for i in range(len(variance_headers)):\n",
    "    if variance_list[i] < threshold_min or variance_list[i] > threshold_max:\n",
    "        low_var_columns.append(variance_headers[i])\n",
    "\n",
    "print(low_var_columns)\n"
   ]
  },
  {
   "cell_type": "code",
   "execution_count": 21,
   "id": "1d79b615-ba6c-4ac8-8c0b-6f1876ad8b95",
   "metadata": {},
   "outputs": [
    {
     "name": "stdout",
     "output_type": "stream",
     "text": [
      "['POS', 'TYPE', 'SIGNING AGE', 'CLAUSE', 'LENGTH', 'EXPIRY', 'CAP HIT %', 'PTS', 'G', 'A', 'PTS', '+/-', 'PIM', 'EV', 'PPG', 'SHG', 'GWG', 'SOG', 'SPCT', 'FOW', 'FOL', 'HIT', 'BL', 'icetime', 'shifts', 'onIce_xGoalsPercentage', 'offIce_xGoalsPercentage', 'onIce_corsiPercentage', 'offIce_corsiPercentage', 'onIce_fenwickPercentage', 'offIce_fenwickPercentage', 'I_F_xOnGoal', 'I_F_xGoals', 'I_F_primaryAssists', 'I_F_secondaryAssists', 'I_F_shotsOnGoal', 'I_F_blockedShotAttempts', 'I_F_shotAttempts', 'I_F_points', 'I_F_goals', 'I_F_penalityMinutes', 'I_F_faceOffsWon', 'I_F_hits', 'I_F_takeaways', 'I_F_giveaways', 'I_F_lowDangerShots', 'I_F_mediumDangerShots', 'I_F_highDangerShots', 'I_F_lowDangerxGoals', 'I_F_mediumDangerxGoals', 'I_F_highDangerxGoals', 'I_F_lowDangerGoals', 'I_F_mediumDangerGoals', 'I_F_highDangerGoals', 'I_F_unblockedShotAttempts', 'I_F_dZoneGiveaways', 'I_F_xGoalsFromxReboundsOfShots', 'I_F_xGoalsFromActualReboundsOfShots', 'I_F_reboundxGoals', 'I_F_xGoals_with_earned_rebounds', 'shotsBlockedByPlayer', 'OnIce_F_xOnGoal', 'OnIce_F_xGoals', 'OnIce_F_shotsOnGoal', 'OnIce_F_shotAttempts', 'OnIce_F_goals', 'OnIce_F_lowDangerShots', 'OnIce_F_mediumDangerShots', 'OnIce_F_highDangerShots', 'OnIce_F_lowDangerxGoals', 'OnIce_F_mediumDangerxGoals', 'OnIce_F_highDangerxGoals', 'OnIce_F_lowDangerGoals', 'OnIce_F_mediumDangerGoals', 'OnIce_F_highDangerGoals', 'OnIce_A_xOnGoal', 'OnIce_A_xGoals', 'OnIce_A_shotsOnGoal', 'OnIce_A_shotAttempts', 'OnIce_A_goals', 'OnIce_A_reboundGoals', 'OnIce_A_lowDangerShots', 'OnIce_A_mediumDangerShots', 'OnIce_A_highDangerShots', 'OnIce_A_lowDangerxGoals', 'OnIce_A_mediumDangerxGoals', 'OnIce_A_highDangerxGoals', 'OnIce_A_lowDangerGoals', 'OnIce_A_mediumDangerGoals', 'OnIce_A_highDangerGoals', 'OnIce_A_reboundxGoals']\n"
     ]
    }
   ],
   "source": [
    "# remove parameters with a variance under our theshold\n",
    "\n",
    "#df = df.drop(columns = low_var_columns)\n",
    "print(df.columns.values.tolist())"
   ]
  },
  {
   "cell_type": "code",
   "execution_count": 22,
   "id": "9562a4d6-2f28-4547-8db5-91506f61f002",
   "metadata": {},
   "outputs": [],
   "source": [
    "# Make Model\n",
    "from sklearn.model_selection import train_test_split\n",
    "\n",
    "x = df.drop([\"CAP HIT %\", \"LENGTH\", \"EXPIRY\"], axis=1)\n",
    "y1 = df[\"CAP HIT %\"]\n",
    "y2 = df[\"LENGTH\"]\n",
    "y3 = df[\"EXPIRY\"]\n",
    "\n",
    "# one hot encode categorical variables in x\n",
    "categorical_columns = ['POS', 'TYPE', 'CLAUSE']\n",
    "x = oneHot(x, categorical_columns)\n",
    "\n",
    "# Set random seed\n",
    "np.random.seed(46)\n",
    "\n",
    "# Split into training and tets\n",
    "X_train, X_test, y_train, y_test = train_test_split(x, y1, test_size=0.2)\n"
   ]
  },
  {
   "cell_type": "code",
   "execution_count": 23,
   "id": "1ec13047-0b42-4942-9d04-fe6c5126e79d",
   "metadata": {},
   "outputs": [
    {
     "data": {
      "text/plain": [
       "0.7980141800972291"
      ]
     },
     "execution_count": 23,
     "metadata": {},
     "output_type": "execute_result"
    }
   ],
   "source": [
    "# Normal Resgression Model\n",
    "from sklearn.ensemble import RandomForestRegressor\n",
    "\n",
    "norm_model = RandomForestRegressor()\n",
    "norm_model.fit(X_train, y_train)\n",
    "norm_model.score(X_test, y_test)"
   ]
  },
  {
   "cell_type": "code",
   "execution_count": 24,
   "id": "53378a2b-48c2-4cb1-8a5a-52849de338eb",
   "metadata": {},
   "outputs": [
    {
     "data": {
      "text/plain": [
       "0.8115343487101334"
      ]
     },
     "execution_count": 24,
     "metadata": {},
     "output_type": "execute_result"
    }
   ],
   "source": [
    "# Ridge Resgression Model\n",
    "from sklearn.linear_model import Ridge\n",
    "\n",
    "ridge_model = Ridge()\n",
    "ridge_model.fit(X_train, y_train)\n",
    "ridge_model.score(X_test, y_test)"
   ]
  },
  {
   "cell_type": "code",
   "execution_count": 25,
   "id": "f2a3cf02-b3a3-4cb6-b3a3-d87ea4ca04c6",
   "metadata": {},
   "outputs": [
    {
     "data": {
      "text/plain": [
       "0.7833421938605141"
      ]
     },
     "execution_count": 25,
     "metadata": {},
     "output_type": "execute_result"
    }
   ],
   "source": [
    "# Enssamble Resgression Model\n",
    "from sklearn.ensemble import RandomForestRegressor\n",
    "\n",
    "en_model = RandomForestRegressor(n_estimators=100)\n",
    "en_model.fit(X_train, y_train)\n",
    "en_model.score(X_test, y_test)"
   ]
  },
  {
   "cell_type": "code",
   "execution_count": 26,
   "id": "a3aba2b9-1d85-4686-86d4-83605ac663b2",
   "metadata": {},
   "outputs": [
    {
     "data": {
      "text/plain": [
       "-0.06782544925550371"
      ]
     },
     "execution_count": 26,
     "metadata": {},
     "output_type": "execute_result"
    }
   ],
   "source": [
    "# Lasso ElasticNet Regression Model (suppose to reduce overfitting)\n",
    "from sklearn.linear_model import Lasso\n",
    "\n",
    "lasso_model = Lasso()\n",
    "lasso_model.fit(X_train, y_train)\n",
    "lasso_model.score(X_test, y_test)\n",
    "\n",
    "# TODO: Hyperparameter Tuning"
   ]
  },
  {
   "cell_type": "markdown",
   "id": "797f723c-7fef-4dc7-9267-33b103d2b112",
   "metadata": {},
   "source": [
    "## Highest Accuracy Score: 81.15%"
   ]
  },
  {
   "cell_type": "code",
   "execution_count": 27,
   "id": "0401be0c-f83a-4a59-8bcb-68bc5d9100c2",
   "metadata": {},
   "outputs": [
    {
     "name": "stdout",
     "output_type": "stream",
     "text": [
      "[0.33373791 0.30120005 0.94754051 0.36300299 0.18924761 0.16432396\n",
      " 0.5173708  0.40390529 0.34428655 0.16348825]\n",
      "[0.34730539 0.23952096 0.91616766 0.33532934 0.14371257 0.05389222\n",
      " 0.4011976  0.28742515 0.17964072 0.05988024]\n"
     ]
    }
   ],
   "source": [
    "# Make Predictions\n",
    "y_preds = ridge_model.predict(X_test)  # chose Ridge model because it outputted the highest score (R^2)\n",
    "\n",
    "print(y_preds[:10])\n",
    "print(np.array(y_test[:10]))\n",
    "\n"
   ]
  },
  {
   "cell_type": "code",
   "execution_count": 28,
   "id": "da48df54-0811-4127-b557-ed587bbdf549",
   "metadata": {},
   "outputs": [],
   "source": [
    "# Compare Preditions to the truth using Mean Absolute Error (MAE) and Mean Squared Error (MSE)\n",
    "\n",
    "# errors = truth - prediction\n",
    "\n",
    "# MAE = averages the absolte values of all the errors\n",
    "from sklearn.metrics import mean_absolute_error\n",
    "mae = mean_absolute_error(y_test, y_preds)\n",
    "\n",
    "# MSE = averages the squared values of all the errors\n",
    "from sklearn.metrics import mean_squared_error\n",
    "mse = mean_squared_error(y_test, y_preds)"
   ]
  },
  {
   "cell_type": "code",
   "execution_count": null,
   "id": "659f36ab-6d09-4da7-962f-9ce5f878f2dd",
   "metadata": {},
   "outputs": [],
   "source": []
  }
 ],
 "metadata": {
  "kernelspec": {
   "display_name": "Python 3 (ipykernel)",
   "language": "python",
   "name": "python3"
  },
  "language_info": {
   "codemirror_mode": {
    "name": "ipython",
    "version": 3
   },
   "file_extension": ".py",
   "mimetype": "text/x-python",
   "name": "python",
   "nbconvert_exporter": "python",
   "pygments_lexer": "ipython3",
   "version": "3.11.3"
  }
 },
 "nbformat": 4,
 "nbformat_minor": 5
}
